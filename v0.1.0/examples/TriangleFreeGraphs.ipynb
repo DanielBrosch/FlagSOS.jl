{
 "cells": [
  {
   "cell_type": "markdown",
   "source": [
    "# Basic example: Mantel's theorem\n",
    "\n",
    "The maximum edge density in triangle free graphs is well known to be $\\frac{1}{2}$, as was first proven by Mantel in 1907. Here we give an automatic proof."
   ],
   "metadata": {}
  },
  {
   "outputs": [],
   "cell_type": "code",
   "source": [
    "using FlagSOS"
   ],
   "metadata": {},
   "execution_count": null
  },
  {
   "cell_type": "markdown",
   "source": [
    "## Setting up the model\n",
    "We define the relevant graphs using their adjacency matrices."
   ],
   "metadata": {}
  },
  {
   "outputs": [],
   "cell_type": "code",
   "source": [
    "edge = Graph(Bool[0 1; 1 0]);\n",
    "triangle = Graph(Bool[0 1 1; 1 0 1; 1 1 0]);"
   ],
   "metadata": {},
   "execution_count": null
  },
  {
   "cell_type": "markdown",
   "source": [
    "We start with an empty `FlagModel` of type `Graph`, where we forbid the triangle graph (and all graphs containing it):"
   ],
   "metadata": {}
  },
  {
   "outputs": [],
   "cell_type": "code",
   "source": [
    "m = FlagModel{Graph}()\n",
    "addForbiddenFlag!(m, triangle)"
   ],
   "metadata": {},
   "execution_count": null
  },
  {
   "cell_type": "markdown",
   "source": [
    "## Choosing a relaxation\n",
    "Now we need to choose a hierarchy. One option is the Lasserre hierarchy, which we can attach to the model using `addLasserreBlock!`."
   ],
   "metadata": {}
  },
  {
   "outputs": [],
   "cell_type": "code",
   "source": [
    "addLasserreBlock!(m, 4);"
   ],
   "metadata": {},
   "execution_count": null
  },
  {
   "cell_type": "markdown",
   "source": [
    "This results in a semidefinite programming problem with block sizes"
   ],
   "metadata": {}
  },
  {
   "outputs": [],
   "cell_type": "code",
   "source": [
    "modelSize(m)"
   ],
   "metadata": {},
   "execution_count": null
  },
  {
   "cell_type": "markdown",
   "source": [
    "We want to maximize the `edge` density, which we do by minimizing its negative"
   ],
   "metadata": {}
  },
  {
   "outputs": [],
   "cell_type": "code",
   "source": [
    "m.objective = -1 * edge"
   ],
   "metadata": {},
   "execution_count": null
  },
  {
   "cell_type": "markdown",
   "source": [
    "Finally, we compute the coefficients of the SDP."
   ],
   "metadata": {}
  },
  {
   "outputs": [],
   "cell_type": "code",
   "source": [
    "computeSDP!(m)"
   ],
   "metadata": {},
   "execution_count": null
  },
  {
   "cell_type": "markdown",
   "source": [
    "## Solving the SDP\n",
    "We solve the relaxation using [Hypatia](https://github.com/chriscoey/Hypatia.jl)."
   ],
   "metadata": {}
  },
  {
   "outputs": [],
   "cell_type": "code",
   "source": [
    "using Hypatia, JuMP\n",
    "jm = buildJuMPModel(m)\n",
    "set_optimizer(jm.model, Hypatia.Optimizer)\n",
    "optimize!(jm.model)\n",
    "termination_status(jm.model)"
   ],
   "metadata": {},
   "execution_count": null
  },
  {
   "outputs": [],
   "cell_type": "code",
   "source": [
    "objective_value(jm.model)"
   ],
   "metadata": {},
   "execution_count": null
  },
  {
   "cell_type": "markdown",
   "source": [
    "---\n",
    "\n",
    "*This notebook was generated using [Literate.jl](https://github.com/fredrikekre/Literate.jl).*"
   ],
   "metadata": {}
  }
 ],
 "nbformat_minor": 3,
 "metadata": {
  "language_info": {
   "file_extension": ".jl",
   "mimetype": "application/julia",
   "name": "julia",
   "version": "1.9.3"
  },
  "kernelspec": {
   "name": "julia-1.9",
   "display_name": "Julia 1.9.3",
   "language": "julia"
  }
 },
 "nbformat": 4
}
