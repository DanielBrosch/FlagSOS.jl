{
 "cells": [
  {
   "cell_type": "markdown",
   "source": [
    "# Finite + high precision example: Error correcting codes\n",
    "\n",
    "A constant weight [error correcting code](https://en.wikipedia.org/wiki/Error_correction_code) of length `N`, distance `D` and weight `W` is a set of binary words of length `N`, each of which has exactly `W` ones, where every pair of words differs in at least `D` coordinates. Here we bound the maximum cardinality of such a code, and solve the SDP to a high precision."
   ],
   "metadata": {}
  },
  {
   "outputs": [],
   "cell_type": "code",
   "source": [
    "using FlagSOS"
   ],
   "metadata": {},
   "execution_count": null
  },
  {
   "cell_type": "markdown",
   "source": [
    "## Setting up the model"
   ],
   "metadata": {}
  },
  {
   "outputs": [],
   "cell_type": "code",
   "source": [
    "N = 11 # length\n",
    "W = 3  # weight\n",
    "D = 4; # distance"
   ],
   "metadata": {},
   "execution_count": null
  },
  {
   "cell_type": "markdown",
   "source": [
    "The type ConstantWeightCode{W,D} models all codes with constant weight `W` and minimum distance `D`, independent of its length `N`."
   ],
   "metadata": {}
  },
  {
   "outputs": [],
   "cell_type": "code",
   "source": [
    "const WDCode = ConstantWeightCode{W,D}"
   ],
   "metadata": {},
   "execution_count": null
  },
  {
   "cell_type": "markdown",
   "source": [
    "We start by creating an empty `FlagModel` for `WDCode`s of length `N`. Since `N` is finite, we need `Rational{Int}` coefficients."
   ],
   "metadata": {}
  },
  {
   "outputs": [],
   "cell_type": "code",
   "source": [
    "m = FlagModel{WDCode,N,Rational{Int}}();"
   ],
   "metadata": {},
   "execution_count": null
  },
  {
   "cell_type": "markdown",
   "source": [
    "We want to maximize the cardinality of the code, i.e. the density of the subcode containing just one word of weight `W`."
   ],
   "metadata": {}
  },
  {
   "outputs": [],
   "cell_type": "code",
   "source": [
    "e = WDCode(ones(Bool, 1, W))\n",
    "m.objective = -1 * e"
   ],
   "metadata": {},
   "execution_count": null
  },
  {
   "cell_type": "markdown",
   "source": [
    "## Initializing the Razborov hierarchy\n",
    "We chose to work with the Razborov hierarchy at level `6`, which is based on densities of subcodes fully contained in `lvl` vertices of the code. This is the same hierarchy [Flagmatic](http://lidicky.name/flagmatic/) uses."
   ],
   "metadata": {}
  },
  {
   "outputs": [],
   "cell_type": "code",
   "source": [
    "lvl = 6\n",
    "rM = addRazborovBlock!(m, lvl)\n",
    "modelBlockSizes(rM)"
   ],
   "metadata": {},
   "execution_count": null
  },
  {
   "cell_type": "markdown",
   "source": [
    "We still need to compute the coefficients of the actual optimization problem"
   ],
   "metadata": {}
  },
  {
   "outputs": [],
   "cell_type": "code",
   "source": [
    "computeSDP!(m)"
   ],
   "metadata": {},
   "execution_count": null
  },
  {
   "cell_type": "markdown",
   "source": [
    "## Solving the SDP\n",
    "Now we can solve it to a high precision"
   ],
   "metadata": {}
  },
  {
   "outputs": [],
   "cell_type": "code",
   "source": [
    "using Hypatia, JuMP, GenericLinearAlgebra\n",
    "setprecision(256)\n",
    "M = buildJuMPModel(m, Dict(), GenericModel{BigFloat}());\n",
    "set_optimizer(M.model, Hypatia.Optimizer{BigFloat})\n",
    "optimize!(M.model)"
   ],
   "metadata": {},
   "execution_count": null
  },
  {
   "outputs": [],
   "cell_type": "code",
   "source": [
    "termination_status(M.model)"
   ],
   "metadata": {},
   "execution_count": null
  },
  {
   "cell_type": "markdown",
   "source": [
    "We need to turn the density of the code to its cardinality"
   ],
   "metadata": {}
  },
  {
   "outputs": [],
   "cell_type": "code",
   "source": [
    "objective_value(M.model) * binomial(N, W)"
   ],
   "metadata": {},
   "execution_count": null
  },
  {
   "cell_type": "markdown",
   "source": [
    "---\n",
    "\n",
    "*This notebook was generated using [Literate.jl](https://github.com/fredrikekre/Literate.jl).*"
   ],
   "metadata": {}
  }
 ],
 "nbformat_minor": 3,
 "metadata": {
  "language_info": {
   "file_extension": ".jl",
   "mimetype": "application/julia",
   "name": "julia",
   "version": "1.9.3"
  },
  "kernelspec": {
   "name": "julia-1.9",
   "display_name": "Julia 1.9.3",
   "language": "julia"
  }
 },
 "nbformat": 4
}
