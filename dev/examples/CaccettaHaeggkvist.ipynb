{
 "cells": [
  {
   "cell_type": "markdown",
   "source": [
    "# Constrained example: Caccetta Haeggkvist conjecture\n",
    "The maximum minimum outdegree of a directed graph (without digons) without directed triangles is conjectured to be $\\frac{1}{3}$:\n",
    "$$\n",
    "\\begin{aligned}\n",
    "\\frac{1}{3}=\\max_{G \\text{ directed graph}} &r\\\\\n",
    "\\text{s.t.}\\enspace & G \\text{ has no directed triangles},\\\\\n",
    "& \\text{the relative outdegree of every vertex is at least }r.\n",
    "\\end{aligned}\n",
    "$$\n",
    "Here we compute an upper bound using a basic application of flag algebras. A more advanced application of the method lead to current best bound."
   ],
   "metadata": {}
  },
  {
   "outputs": [],
   "cell_type": "code",
   "source": [
    "using FlagSOS"
   ],
   "metadata": {},
   "execution_count": null
  },
  {
   "cell_type": "markdown",
   "source": [
    "## Setting up the model\n",
    "We work with directed graphs without digons."
   ],
   "metadata": {}
  },
  {
   "outputs": [],
   "cell_type": "code",
   "source": [
    "const Digraph = DirectedGraph{false}"
   ],
   "metadata": {},
   "execution_count": null
  },
  {
   "cell_type": "markdown",
   "source": [
    "We define the relevant graphs using their adjacency matrices."
   ],
   "metadata": {}
  },
  {
   "outputs": [],
   "cell_type": "code",
   "source": [
    "directedEdge = Digraph(Bool[0 1; 0 0]);\n",
    "directedTriangle = Digraph(Bool[0 1 0; 0 0 1; 1 0 0]);"
   ],
   "metadata": {},
   "execution_count": null
  },
  {
   "cell_type": "markdown",
   "source": [
    "We start with an empty `FlagModel` of type `DirectedGraph`, where we forbid the directed triangle:"
   ],
   "metadata": {}
  },
  {
   "outputs": [],
   "cell_type": "code",
   "source": [
    "m = FlagModel{Digraph}()\n",
    "addForbiddenFlag!(m, directedTriangle)"
   ],
   "metadata": {},
   "execution_count": null
  },
  {
   "cell_type": "markdown",
   "source": [
    "## Choosing a relaxation\n",
    "Now we need to choose a hierarchy. One option is the Lasserre hierarchy, which we can attach to the model using `addLasserreBlock!`."
   ],
   "metadata": {}
  },
  {
   "outputs": [],
   "cell_type": "code",
   "source": [
    "addLasserreBlock!(m, 4);"
   ],
   "metadata": {},
   "execution_count": null
  },
  {
   "cell_type": "markdown",
   "source": [
    "This results in a semidefinite programming problem with block sizes"
   ],
   "metadata": {}
  },
  {
   "outputs": [],
   "cell_type": "code",
   "source": [
    "modelSize(m)"
   ],
   "metadata": {},
   "execution_count": null
  },
  {
   "cell_type": "markdown",
   "source": [
    "We want to maximize the `directedEdge` density, which we can do by minimizing its negative"
   ],
   "metadata": {}
  },
  {
   "outputs": [],
   "cell_type": "code",
   "source": [
    "m.objective = -1 * directedEdge\n",
    "\n",
    "const lDigraph = PartiallyLabeledFlag{Digraph}\n",
    "\n",
    "e1 = lDigraph(Bool[0 1; 0 0]; n=1)\n",
    "e2 = lDigraph(Bool[0 0; 1 0]; n=1)\n",
    "eL = lDigraph(Bool[0 1; 0 0]; n=0)\n",
    "\n",
    "qm2 = FlagSOS.addEquality!(m, e1 - eL, 4);"
   ],
   "metadata": {},
   "execution_count": null
  },
  {
   "cell_type": "markdown",
   "source": [
    "Finally, we compute the coefficients of the SDP."
   ],
   "metadata": {}
  },
  {
   "outputs": [],
   "cell_type": "code",
   "source": [
    "computeSDP!(m)"
   ],
   "metadata": {},
   "execution_count": null
  },
  {
   "cell_type": "markdown",
   "source": [
    "## Solving the SDP\n",
    "We solve the relaxation using [Hypatia](https://github.com/chriscoey/Hypatia.jl)."
   ],
   "metadata": {}
  },
  {
   "outputs": [],
   "cell_type": "code",
   "source": [
    "using Hypatia, JuMP\n",
    "jm = buildJuMPModel(m)\n",
    "set_optimizer(jm.model, Hypatia.Optimizer)\n",
    "optimize!(jm.model)\n",
    "termination_status(jm.model)"
   ],
   "metadata": {},
   "execution_count": null
  },
  {
   "outputs": [],
   "cell_type": "code",
   "source": [
    "objective_value(jm.model)"
   ],
   "metadata": {},
   "execution_count": null
  },
  {
   "cell_type": "markdown",
   "source": [
    "---\n",
    "\n",
    "*This notebook was generated using [Literate.jl](https://github.com/fredrikekre/Literate.jl).*"
   ],
   "metadata": {}
  }
 ],
 "nbformat_minor": 3,
 "metadata": {
  "language_info": {
   "file_extension": ".jl",
   "mimetype": "application/julia",
   "name": "julia",
   "version": "1.9.3"
  },
  "kernelspec": {
   "name": "julia-1.9",
   "display_name": "Julia 1.9.3",
   "language": "julia"
  }
 },
 "nbformat": 4
}
