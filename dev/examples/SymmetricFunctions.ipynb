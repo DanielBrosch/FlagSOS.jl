{
 "cells": [
  {
   "cell_type": "markdown",
   "source": [
    "# Non-binary example: symmetric functions\n",
    "\n",
    "For every choice of $n\\in\\mathbb{N}$ the symmetric function\n",
    "\n",
    "$$f = \\frac{6-5n+n^2}{n^4}e_2e_2-\\frac{2(-3+n)(-1+n)}{n^4}e_1e_3+\\frac{2(-1+n)}{n^3} e_4,$$\n",
    "\n",
    "where $e_i$ denotes the $i$'th elementary symmetric polynomial, is nonnegative on all inputs."
   ],
   "metadata": {}
  },
  {
   "outputs": [],
   "cell_type": "code",
   "source": [
    "using FlagSOS\n",
    "\n",
    "n = 10\n",
    "m = FlagModel{SymmetricFunction, n, Rational{Int}}()"
   ],
   "metadata": {},
   "execution_count": null
  },
  {
   "cell_type": "markdown",
   "source": [
    "## Choosing a relaxation\n",
    "As we are not restricting ourselves to binary variables, our only option is the Lasserre-hierarchy:"
   ],
   "metadata": {}
  },
  {
   "outputs": [],
   "cell_type": "code",
   "source": [
    "addLasserreBlock!(m, 4);"
   ],
   "metadata": {},
   "execution_count": null
  },
  {
   "cell_type": "markdown",
   "source": [
    "This results in a semidefinite programming problem with block sizes"
   ],
   "metadata": {}
  },
  {
   "outputs": [],
   "cell_type": "code",
   "source": [
    "modelSize(m)"
   ],
   "metadata": {},
   "execution_count": null
  },
  {
   "cell_type": "markdown",
   "source": [
    "The package normalizes the bases of the algebra such that the coefficients sum to one. So to get\n",
    "$$\n",
    "e_4 = \\sum_{1\\leq i<j<k<l\\leq n} x_ix_jx_kx_l\n",
    "$$\n",
    "we need to multiply the element with $\\binom{n}{4}$."
   ],
   "metadata": {}
  },
  {
   "outputs": [],
   "cell_type": "code",
   "source": [
    "e4 = 1//1 * binomial(n, 4) * SymmetricFunction([1, 1, 1, 1])"
   ],
   "metadata": {},
   "execution_count": null
  },
  {
   "cell_type": "markdown",
   "source": [
    "We need to express $e_1e_3$ in the linear basis of normalized monomial sums:\n",
    "$$\n",
    "\\begin{aligned}\n",
    "e_1e_3 &= (x_1+x_2+x_3+x_4+...)(x_1x_2x_3+x_1x_2x_4+...) \\\\\n",
    "&= x_1^2x_3x_4+\\dots+4x_1x_2x_3x_4+\\dots \\\\\n",
    "&= m(2,1,1) + 4m(1,1,1,1)\n",
    "\\end{aligned}\n",
    "$$"
   ],
   "metadata": {}
  },
  {
   "outputs": [],
   "cell_type": "code",
   "source": [
    "e1e3 =\n",
    "    3//1 * binomial(n, 3) * SymmetricFunction([2, 1, 1]) +\n",
    "    4//1 * binomial(n, 4) * SymmetricFunction([1, 1, 1, 1])"
   ],
   "metadata": {},
   "execution_count": null
  },
  {
   "cell_type": "markdown",
   "source": [
    "And analogously\n",
    "$$\n",
    "\\begin{aligned}\n",
    "e_2e_2&=(x_1x_2+\\dots)(x_1x_2+\\dots) \\\\\n",
    "&= x_1^2x_2^2 +\\dots + 2x_1^2x_2x_3 +\\dots + 6x_1x_2x_3x_4 + \\dots \\\\\n",
    "&= m(2,2) + 2m(2,1,1) + 6m(1,1,1,1)\n",
    "\\end{aligned}\n",
    "$$"
   ],
   "metadata": {}
  },
  {
   "outputs": [],
   "cell_type": "code",
   "source": [
    "e2e2 =\n",
    "    1//1 * binomial(n, 2) * SymmetricFunction([2, 2]) +\n",
    "    2//1 * 3 * binomial(n, 3) * SymmetricFunction([2, 1, 1]) +\n",
    "    6//1 * binomial(n, 4) * SymmetricFunction([1, 1, 1, 1])"
   ],
   "metadata": {},
   "execution_count": null
  },
  {
   "cell_type": "markdown",
   "source": [
    "We now have all the pieces to put together the symmetric function\n",
    "\n",
    "$$f = \\frac{6-5n+n^2}{n^4}e_2e_2-\\frac{2(-3+n)(-1+n)}{n^4}e_1e_3+\\frac{2(-1+n)}{n^3} e_4.$$"
   ],
   "metadata": {}
  },
  {
   "outputs": [],
   "cell_type": "code",
   "source": [
    "m.objective =\n",
    "    ((6 - 5 * n + n^2)//n^4) * e2e2 +\n",
    "    (-(2 * (-3 + n) * (-1 + n)//n^4)) * e1e3 +\n",
    "    *((2 * (-1 + n))//n^3) * e4"
   ],
   "metadata": {},
   "execution_count": null
  },
  {
   "cell_type": "markdown",
   "source": [
    "Finally, we compute the coefficients of the SDP."
   ],
   "metadata": {}
  },
  {
   "outputs": [],
   "cell_type": "code",
   "source": [
    "computeSDP!(m)"
   ],
   "metadata": {},
   "execution_count": null
  },
  {
   "cell_type": "markdown",
   "source": [
    "## Solving the SDP\n",
    "We solve the relaxation using [Hypatia](https://github.com/chriscoey/Hypatia.jl)."
   ],
   "metadata": {}
  },
  {
   "outputs": [],
   "cell_type": "code",
   "source": [
    "using Hypatia, JuMP\n",
    "jm = buildJuMPModel(m)\n",
    "set_optimizer(jm.model, Hypatia.Optimizer)\n",
    "optimize!(jm.model)\n",
    "termination_status(jm.model)"
   ],
   "metadata": {},
   "execution_count": null
  },
  {
   "outputs": [],
   "cell_type": "code",
   "source": [
    "objective_value(jm.model)"
   ],
   "metadata": {},
   "execution_count": null
  },
  {
   "cell_type": "markdown",
   "source": [
    "---\n",
    "\n",
    "*This notebook was generated using [Literate.jl](https://github.com/fredrikekre/Literate.jl).*"
   ],
   "metadata": {}
  }
 ],
 "nbformat_minor": 3,
 "metadata": {
  "language_info": {
   "file_extension": ".jl",
   "mimetype": "application/julia",
   "name": "julia",
   "version": "1.10.3"
  },
  "kernelspec": {
   "name": "julia-1.10",
   "display_name": "Julia 1.10.3",
   "language": "julia"
  }
 },
 "nbformat": 4
}
